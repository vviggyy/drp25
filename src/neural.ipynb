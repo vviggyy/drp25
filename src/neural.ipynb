{
 "cells": [
  {
   "cell_type": "code",
   "execution_count": 84,
   "id": "e701981a",
   "metadata": {},
   "outputs": [],
   "source": [
    "import numpy as np \n",
    "import pandas as pd \n",
    "import sklearn as sk \n",
    "import matplotlib.pyplot as plt\n",
    "from typing import Tuple\n",
    "import glob\n",
    "from pathlib import Path\n",
    "\n",
    "import torch\n",
    "import torch.nn as nn\n",
    "import torch.nn.functional as F\n",
    "\n",
    "from torch.utils.data import Dataset, random_split, DataLoader\n",
    "import torch.optim as optim\n",
    "\n",
    "#moved everything out\n",
    "from utils import visualize, percent_healthy, get_glucose_response, discretize\n",
    "import constants"
   ]
  },
  {
   "cell_type": "code",
   "execution_count": 85,
   "id": "94b87b91",
   "metadata": {},
   "outputs": [],
   "source": [
    "MACROS = [\"Calories\", \"Carbs\", \"Protein\", \"Fiber\", \"Fat\"]\n",
    "\n",
    "##attemping different combinations\n",
    "#FACTORS = [\"BMI\", \"A1c PDL (Lab)\", \"Fasting GLU - PDL (Lab)\", \"Insulin \"]\n",
    "#FACTORS = [\"BMI\", \"A1c PDL (Lab)\", \"Fasting GLU - PDL (Lab)\", \"Insulin \", \"Triglycerides\", \"Age\"]\n",
    "FACTORS = [\"Age\",\"BMI\",\"Body weight \",\"Height \",\"A1c PDL (Lab)\",\"Fasting GLU - PDL (Lab)\",\"Insulin \" ,\"Triglycerides\",\"Cholesterol\",\"HDL\",\"Non HDL \",\"LDL (Cal)\",\"VLDL (Cal)\",\"Cho/HDL Ratio\"]\n"
   ]
  },
  {
   "cell_type": "code",
   "execution_count": 86,
   "id": "774c4444",
   "metadata": {},
   "outputs": [],
   "source": [
    "def get_subject_no(file_path: Path) -> int:\n",
    "    components = Path(file_path).parts\n",
    "    subj = components[3][-3:]\n",
    "    return int(subj)"
   ]
  },
  {
   "cell_type": "code",
   "execution_count": 87,
   "id": "54dd430b",
   "metadata": {},
   "outputs": [],
   "source": [
    "def get_sequences(raw_df: pd.DataFrame, meals: pd.DataFrame):\n",
    "    \n",
    "    meal_idxs = meals[\"idx\"]\n",
    "\n",
    "    #get sequence for both cgms, previous meal idx\n",
    "    sequences_lib = [list(raw_df[\"Libre GL\"])[id-60:id] for id in meal_idxs if id > 60] #will this cause issues down the line with mismatched meals?\n",
    "    sequences_dex = [list(raw_df[\"Dexcom GL\"])[id-60:id] for id in meal_idxs if id > 60]\n",
    "\n",
    "    return pd.DataFrame(sequences_lib), pd.DataFrame(sequences_dex)"
   ]
  },
  {
   "cell_type": "code",
   "execution_count": 88,
   "id": "13e17ee1",
   "metadata": {},
   "outputs": [],
   "source": [
    "##load everything in \n",
    "physio = pd.read_csv(r\"../../CGMacros/bio.csv\", index_col=\"subject\") #reindex\n",
    "paths = glob.glob(r\"../../CGMacros/CGMacros-*/CGMacros-*.csv\", recursive=True)\n",
    "df = pd.read_csv(paths[2]).fillna(0)\n"
   ]
  },
  {
   "cell_type": "code",
   "execution_count": 89,
   "id": "60910357",
   "metadata": {},
   "outputs": [],
   "source": [
    "#get glucose response for all participants\n",
    "mldf = pd.DataFrame([]) #will hold macros + factors + spike values\n",
    "seqs_lib = pd.DataFrame([]) # will hold sequence of 1 hr before meal for libre\n",
    "seqs_dex = pd.DataFrame([]) #will hold sequence of 1 hr beore dexcom\n",
    "\n",
    "for path in paths:\n",
    "    #glucose reponse\n",
    "    df = pd.read_csv(path).fillna(0)    \n",
    "    ml = get_glucose_response(df, unhealthy=False, discrete=False)\n",
    "    subj = get_subject_no(path)\n",
    "    \n",
    "    #get markers\n",
    "    try:\n",
    "        biomarkers = list(physio[FACTORS].iloc[subj-1,:])\n",
    "    except: #some subjects are missing from physio\n",
    "        biomarkers = [None] * len(FACTORS)\n",
    "    \n",
    "    biomarkers_df = pd.DataFrame([biomarkers] * len(ml))\n",
    "    biomarkers_df.columns = FACTORS\n",
    "    subj_params = pd.concat([ml.reset_index(drop=True), biomarkers_df.reset_index(drop=True)], axis = 1)\n",
    "    mldf = pd.concat([mldf, subj_params], axis = 0)\n",
    "    \n",
    "    #get sequences\n",
    "    seq_lib, seq_dex = get_sequences(df, ml)\n",
    "    seqs_lib = pd.concat([seqs_lib, seq_lib], axis = 0)\n",
    "    seqs_dex = pd.concat([seqs_dex, seq_dex], axis = 0)\n",
    "    \n",
    "    \n",
    "    \n",
    "#replace Gender col with OHE vers\n",
    "#mldf[\"Gender\"] = pd.Series([0 if g == \"M\" else 1 for g in mldf[\"Gender\"]])\n",
    "\n",
    "mldf = mldf.reset_index(drop=True)\n",
    "mldf = mldf.dropna(subset=FACTORS)\n",
    "\n"
   ]
  },
  {
   "cell_type": "code",
   "execution_count": 90,
   "id": "d6140d1c",
   "metadata": {},
   "outputs": [
    {
     "data": {
      "text/plain": [
       "array([[1.        , 0.73552142],\n",
       "       [0.73552142, 1.        ]])"
      ]
     },
     "execution_count": 90,
     "metadata": {},
     "output_type": "execute_result"
    }
   ],
   "source": [
    "lib = mldf[\"lib_prom\"]\n",
    "dex = mldf[\"dex_prom\"]\n",
    "\n",
    "np.corrcoef(lib, dex)"
   ]
  },
  {
   "cell_type": "code",
   "execution_count": 91,
   "id": "6a5ed90a",
   "metadata": {},
   "outputs": [],
   "source": [
    "#create new combined dataset\n",
    "LEN_OBS = len(mldf)\n",
    "dev = np.zeros(LEN_OBS*2)\n",
    "dev[LEN_OBS:] = 1  #device indicator (0: lib, 1: dex)\n",
    "\n",
    "mldf_combined = pd.concat([mldf, mldf])\n",
    "mldf_combined[\"dev\"] = dev #adding new variable\n",
    "response_combined = pd.concat([mldf[\"lib_prom\"], mldf[\"dex_prom\"]])\n",
    "seqs = pd.concat([seqs_lib, seqs_dex], axis = 0)"
   ]
  },
  {
   "cell_type": "code",
   "execution_count": 92,
   "id": "165187d4",
   "metadata": {},
   "outputs": [],
   "source": [
    "class SpikeDataset(Dataset):\n",
    "    def __init__(self, macros, spike, sequences):\n",
    "        self.macros = macros.reset_index(drop=True) #vector of macro values (carbs, protein, fiber, fats, calories)\n",
    "        self.spike = spike.reset_index(drop=True) #R1 collected spike value (mg/dL)\n",
    "        self.sequences = sequences.reset_index(drop=True)\n",
    "        \n",
    "    def __len__(self):\n",
    "        return len(self.spike)\n",
    "    \n",
    "    def __getitem__(self, idx):\n",
    "        meal = torch.tensor(self.macros.iloc[idx, :], dtype = torch.float32) #wrap in tensors\n",
    "        response = torch.tensor([self.spike[idx]], dtype = torch.float32) #expects 1d, not scalar \n",
    "        seq = torch.tensor(self.sequences.iloc[idx, :], dtype=torch.float32).unsqueeze(-1)\n",
    "        \n",
    "        return meal, response,  seq #X, y, t\n",
    "\n",
    "#make two different datasets for libre and dexcome data\n",
    "SD_lib = SpikeDataset(mldf[MACROS+FACTORS], mldf[\"lib_prom\"], seqs_lib)\n",
    "SD_dex = SpikeDataset(mldf[MACROS+FACTORS], mldf[\"dex_prom\"], seqs_dex)\n",
    "SD = SpikeDataset(mldf_combined[MACROS+FACTORS], response_combined, seqs)\n"
   ]
  },
  {
   "cell_type": "code",
   "execution_count": 93,
   "id": "bab574ca",
   "metadata": {},
   "outputs": [],
   "source": [
    "#split cwt_data (Dataset) into 80 20 train/test split\n",
    "data_len = len(SD)\n",
    "\n",
    "train_size = int(0.8 * data_len)\n",
    "val_size = int(0.1 * data_len)\n",
    "test_size = data_len - train_size - val_size\n",
    "\n",
    "train_dataset, val_dataset, test_dataset = random_split(SD, [train_size, val_size, test_size])\n",
    "\n",
    "train_loader = DataLoader(train_dataset, batch_size=64, shuffle = True)\n",
    "validation_loader = DataLoader(val_dataset, batch_size=64, shuffle = False)\n",
    "test_loader = DataLoader(test_dataset, batch_size=64, shuffle = False)"
   ]
  },
  {
   "cell_type": "code",
   "execution_count": 94,
   "id": "e8af47bb",
   "metadata": {},
   "outputs": [],
   "source": [
    "#K.I.S.S!\n",
    "class MacroNN(nn.Module):\n",
    "    def __init__(self):\n",
    "        super().__init__()\n",
    "        \n",
    "        self.l1 = nn.Linear(len(MACROS) + len(FACTORS), 100) #5 macros\n",
    "        self.l2 = nn.Linear(100, 50)\n",
    "        self.l3 = nn.Linear(50, 25)\n",
    "        self.l4 = nn.Linear(25, 13)\n",
    "        self.l5 = nn.Linear(13, 5)\n",
    "        self.l6 = nn.Linear(5, 1) #regression, use raw logit\n",
    "        \n",
    "    \n",
    "    def forward(self, x): #define forward pass i.e. how does the model handle inputs?\n",
    "        \n",
    "        x = F.relu(self.l1(x))\n",
    "        x = F.relu(self.l2(x))\n",
    "        x = F.relu(self.l3(x))\n",
    "        x = F.relu(self.l4(x))\n",
    "        x = F.relu(self.l5(x))\n",
    "        x = self.l6(x)\n",
    "        \n",
    "        return x\n",
    "\n",
    "model = MacroNN()\n"
   ]
  },
  {
   "cell_type": "code",
   "execution_count": 95,
   "id": "e0678ef3",
   "metadata": {},
   "outputs": [],
   "source": [
    "# LSTM-MLP hybrid model\n",
    "class SpikeNN(nn.Module):\n",
    "    def __init__(self):\n",
    "        super().__init__()\n",
    "        self.lstm = nn.LSTM(input_size = 1, hidden_size = 1, batch_first = True)\n",
    "        self.static_mlp = nn.Sequential(\n",
    "            nn.Linear(len(MACROS) + len(FACTORS)+1, 100),\n",
    "            nn.Linear(100, 50),\n",
    "            nn.Linear(50, 25),\n",
    "            nn.Linear(25, 13),\n",
    "            nn.Linear(13, 5),\n",
    "            nn.Linear(5, 1) #raw logit for regression\n",
    "        )\n",
    "    \n",
    "    def forward(self, seq, x): #define forward pass i.e. how does the model handle inputs?\n",
    "        _, (out_hn, _) = self.lstm(seq) #pass sequence in here\n",
    "        out_hn = out_hn.squeeze(0)\n",
    "        new_x = torch.cat([out_hn, x], dim = 1)\n",
    "        y = self.static_mlp(new_x)\n",
    "        return y\n",
    "\n",
    "model = SpikeNN()\n"
   ]
  },
  {
   "cell_type": "code",
   "execution_count": null,
   "id": "e818a3d3",
   "metadata": {},
   "outputs": [],
   "source": [
    "#define additional hyperparameters\n",
    "#loss = nn.MSELoss()\n",
    "loss = torch.nn.SmoothL1Loss()\n",
    "optimizer = torch.optim.Adam(model.parameters(), lr=1e-3)\n",
    "\n",
    "loss_track = []\n",
    "val_track = []\n",
    "\n",
    "EPOCHS = 500 \n",
    "for epoch in range(EPOCHS):\n",
    "    \n",
    "    total_loss = 0.0\n",
    "    \n",
    "    for i, data in enumerate(train_loader, 0):\n",
    "        X, y, s = data\n",
    "        optimizer.zero_grad() #zero out gradients so weights aren't misadjusted\n",
    "        \n",
    "        out = model(s, X)\n",
    "        loss_val = loss(out, y) #MSE loss calculated with output and y \n",
    "        \n",
    "        loss_val.backward() #backpropataion\n",
    "        optimizer.step() #adjust weights based on backpropagation\n",
    "        \n",
    "        total_loss += loss_val.item()\n",
    "        #print(f\"loss: {loss_val.item()}\")\n",
    "        \n",
    "    loss_track.append(total_loss / len(train_loader)) #avg training loss /epoch\n",
    "    \n",
    "    total_val_loss = 0.0\n",
    "    \n",
    "    with torch.no_grad():\n",
    "        model.eval() #set to evaluation mode\n",
    "        for Xv, yv, sv in validation_loader:\n",
    "            ypr = model(sv, Xv)\n",
    "            val_loss = loss(ypr, yv).item()\n",
    "            total_val_loss += val_loss\n",
    "        \n",
    "        val_track.append(total_val_loss / len(validation_loader)) #avg val loss\n",
    "        model.train()\n",
    "        \n",
    "print(\"finished training\")"
   ]
  },
  {
   "cell_type": "markdown",
   "id": "59b3c28a",
   "metadata": {},
   "source": [
    "note Huber loss is quadratic close to 0, and absval/linear away from zero --> less sensitive to outliers"
   ]
  },
  {
   "cell_type": "code",
   "execution_count": 78,
   "id": "72c70bec",
   "metadata": {},
   "outputs": [
    {
     "name": "stdout",
     "output_type": "stream",
     "text": [
      "MSE: 1499.8773\n",
      "R²: 0.20446735620498657\n"
     ]
    }
   ],
   "source": [
    "from sklearn.metrics import r2_score, mean_squared_error\n",
    "\n",
    "model.eval()  # set to eval mode\n",
    "\n",
    "all_preds = []\n",
    "all_truths = []\n",
    "\n",
    "with torch.no_grad():\n",
    "    for X_test, y_test, s_test in test_loader:\n",
    "        preds = model(s_test, X_test)\n",
    "        all_preds.append(preds.squeeze().cpu())   # flatten and move to CPU\n",
    "        all_truths.append(y_test.squeeze().cpu())\n",
    "\n",
    "# Convert to flat NumPy arrays\n",
    "import torch\n",
    "y_pred = torch.cat(all_preds).numpy()\n",
    "y_true = torch.cat(all_truths).numpy()\n",
    "\n",
    "# Metrics\n",
    "print(\"MSE:\", mean_squared_error(y_true, y_pred))\n",
    "print(\"R²:\", r2_score(y_true, y_pred))"
   ]
  },
  {
   "cell_type": "code",
   "execution_count": 79,
   "id": "695f2378",
   "metadata": {},
   "outputs": [
    {
     "data": {
      "text/plain": [
       "<matplotlib.legend.Legend at 0x17f08f520>"
      ]
     },
     "execution_count": 79,
     "metadata": {},
     "output_type": "execute_result"
    },
    {
     "data": {
      "image/png": "[encoded data removed]",
      "text/plain": [
       "<Figure size 640x480 with 1 Axes>"
      ]
     },
     "metadata": {},
     "output_type": "display_data"
    }
   ],
   "source": [
    "plt.plot(loss_track, label = \"Training Loss\")\n",
    "plt.plot(val_track, label = \"Validation Loss\")\n",
    "plt.title(\"Huber Loss v.s Training Epochs\")\n",
    "plt.xlabel(\"Epoch\")\n",
    "plt.ylabel(\"Huber Smooth L1 Loss\")\n",
    "plt.legend()\n"
   ]
  },
  {
   "cell_type": "code",
   "execution_count": 80,
   "id": "db3ca15f",
   "metadata": {},
   "outputs": [
    {
     "name": "stdout",
     "output_type": "stream",
     "text": [
      "MAE: 31.31 mg/dL\n"
     ]
    }
   ],
   "source": [
    "from sklearn.metrics import mean_absolute_error\n",
    "\n",
    "mae = mean_absolute_error(y_true, y_pred)\n",
    "print(f\"MAE: {mae:.2f} mg/dL\")"
   ]
  }
 ],
 "metadata": {
  "kernelspec": {
   "display_name": "base",
   "language": "python",
   "name": "python3"
  },
  "language_info": {
   "codemirror_mode": {
    "name": "ipython",
    "version": 3
   },
   "file_extension": ".py",
   "mimetype": "text/x-python",
   "name": "python",
   "nbconvert_exporter": "python",
   "pygments_lexer": "ipython3",
   "version": "3.10.10"
  }
 },
 "nbformat": 4,
 "nbformat_minor": 5
}
